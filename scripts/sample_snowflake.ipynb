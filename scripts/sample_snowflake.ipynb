{
 "cells": [
  {
   "cell_type": "code",
   "execution_count": 0,
   "metadata": {
    "application/vnd.databricks.v1+cell": {
     "cellMetadata": {
      "byteLimit": 2048000,
      "rowLimit": 10000
     },
     "inputWidgets": {},
     "nuid": "abfb7581-136a-4258-861f-f44cf562e6eb",
     "showTitle": false,
     "tableResultSettingsMap": {},
     "title": ""
    }
   },
   "outputs": [
    {
     "output_type": "stream",
     "name": "stdout",
     "output_type": "stream",
     "text": [
      "+------+---------+-----+\n|SYMBOL|SENTIMENT|SCORE|\n+------+---------+-----+\n|  AAPL| positive|  0.9|\n|  TSLA| negative| -0.8|\n+------+---------+-----+\n\n"
     ]
    }
   ],
   "source": [
    "sf_account = dbutils.secrets.get(scope=\"stock-project\", key=\"sf-account\")\n",
    "sf_url = f\"{sf_account}.snowflakecomputing.com\"\n",
    "\n",
    "# Snowflake connection options from Databricks secret scope\n",
    "sfOptions = {\n",
    "    \"sfURL\": sf_url,\n",
    "    \"sfUser\": dbutils.secrets.get(scope=\"stock-project\", key=\"sf-user\"),\n",
    "    \"sfPassword\": dbutils.secrets.get(scope=\"stock-project\", key=\"sf-password\"),\n",
    "    \"sfDatabase\": dbutils.secrets.get(scope=\"stock-project\", key=\"sf-database\"),\n",
    "    \"sfSchema\": dbutils.secrets.get(scope=\"stock-project\", key=\"sf-aschema\"),\n",
    "    \"sfWarehouse\": dbutils.secrets.get(scope=\"stock-project\", key=\"sf-warehouse\"),\n",
    "    \"sfRole\": dbutils.secrets.get(scope=\"stock-project\", key=\"sf-role\")\n",
    "}\n",
    "\n",
    "# Sample data to write\n",
    "sample_df = spark.createDataFrame([\n",
    "    (\"AAPL\", \"positive\", 0.9),\n",
    "    (\"TSLA\", \"negative\", -0.8)\n",
    "], [\"symbol\", \"sentiment\", \"score\"])\n",
    "\n",
    "# Write to Snowflake (test table)\n",
    "sample_df.write \\\n",
    "    .format(\"snowflake\") \\\n",
    "    .options(**sfOptions) \\\n",
    "    .option(\"dbtable\", \"TEST_SENTIMENT_LOAD\") \\\n",
    "    .mode(\"overwrite\") \\\n",
    "    .save()\n",
    "\n",
    "# Read back from Snowflake\n",
    "read_df = spark.read \\\n",
    "    .format(\"snowflake\") \\\n",
    "    .options(**sfOptions) \\\n",
    "    .option(\"dbtable\", \"TEST_SENTIMENT_LOAD\") \\\n",
    "    .load()\n",
    "\n",
    "# Show result\n",
    "read_df.show()\n"
   ]
  }
 ],
 "metadata": {
  "application/vnd.databricks.v1+notebook": {
   "computePreferences": null,
   "dashboards": [],
   "environmentMetadata": {
    "base_environment": "",
    "environment_version": "2"
   },
   "inputWidgetPreferences": null,
   "language": "python",
   "notebookMetadata": {
    "pythonIndentUnit": 4
   },
   "notebookName": "sample_snowflake",
   "widgets": {}
  },
  "language_info": {
   "name": "python"
  }
 },
 "nbformat": 4,
 "nbformat_minor": 0
}